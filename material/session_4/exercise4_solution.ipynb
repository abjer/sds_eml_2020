{
 "cells": [
  {
   "cell_type": "markdown",
   "metadata": {},
   "source": [
    "# Exercise Set 4: controlling for observable factors and causal trees\n",
    "\n",
    "In this Exercise Set 4 we will try out different techniques for using matching and try an implementation of causal trees. "
   ]
  },
  {
   "cell_type": "code",
   "execution_count": 28,
   "metadata": {},
   "outputs": [],
   "source": [
    "import matplotlib.pyplot as plt\n",
    "import numpy as np\n",
    "import pandas as pd \n",
    "import seaborn as sns\n",
    "from scipy.stats import ttest_rel, ttest_ind\n",
    "\n",
    "%matplotlib inline"
   ]
  },
  {
   "cell_type": "markdown",
   "metadata": {},
   "source": [
    "<br>\n",
    "\n",
    "## 4.1 Survival and passenger class\n",
    "\n",
    "We revisit a classic dataset: Titanic. We are interested in analyzing whether the passengers on First class had a higher survival probability. \n",
    "\n",
    "The code below loads the dataset. "
   ]
  },
  {
   "cell_type": "code",
   "execution_count": 79,
   "metadata": {},
   "outputs": [],
   "source": [
    "df = sns.load_dataset('titanic').dropna(subset=['age'])\n",
    "\n",
    "\n",
    "X = pd.get_dummies(df.drop(['pclass','class', 'alive', 'survived'],axis=1), drop_first=True).astype('float')\n",
    "D = (df['pclass'] < 3).rename('high_class')\n",
    "y = (df['alive']=='yes').astype('float')"
   ]
  },
  {
   "cell_type": "markdown",
   "metadata": {},
   "source": [
    "> **Ex. 4.1.1:** Compute the ATE of not travelling on a 3rd class ticket, assuming the CIA holds."
   ]
  },
  {
   "cell_type": "code",
   "execution_count": 80,
   "metadata": {},
   "outputs": [],
   "source": [
    "def basic_ATE(y, D):\n",
    "    ''' Calculate ATE simply as the difference \n",
    "        in outcomes of control and treatment\n",
    "        individuals.\n",
    "    '''\n",
    "    return y[D].mean() - y[~D].mean()"
   ]
  },
  {
   "cell_type": "code",
   "execution_count": 81,
   "metadata": {},
   "outputs": [
    {
     "name": "stdout",
     "output_type": "stream",
     "text": [
      "ATE: 0.332, with t-test of Ttest_indResult(statistic=9.569754052053101, pvalue=1.7180216268747918e-20)\n"
     ]
    }
   ],
   "source": [
    "print(\n",
    "    f'ATE: {round(basic_ATE(y,D), 3)}, with t-test of {ttest_ind(y[D], y[~D])}'\n",
    ")"
   ]
  },
  {
   "cell_type": "markdown",
   "metadata": {},
   "source": [
    "> **Ex. 4.1.2:** Compute the share of males, the proportion travelling alone, and the mean age, by treatment status. Then modify the code below to try out coarsened exact matching on `exact_cols = ['age_group', 'alone','sex_male']` with age bins of size 2, 5, 10 and 15 years. \n",
    ">\n",
    "> Comment on the result. Does coarse matching seem like a feasible approach in this \n",
    "```python\n",
    "age_diff =  2\n",
    "X['age_group'] =  (X.age // age_diff)\n",
    "match_count = \\\n",
    "    pd.DataFrame({'treat':X[D].groupby(exact_cols).size(), \n",
    "                  'control':X[~D].groupby(exact_cols).size()})\\            \n",
    "n_obs_matched = int(match_count.dropna().sum().sum())\n",
    "```"
   ]
  },
  {
   "cell_type": "code",
   "execution_count": 82,
   "metadata": {},
   "outputs": [
    {
     "data": {
      "text/html": [
       "<div>\n",
       "<style scoped>\n",
       "    .dataframe tbody tr th:only-of-type {\n",
       "        vertical-align: middle;\n",
       "    }\n",
       "\n",
       "    .dataframe tbody tr th {\n",
       "        vertical-align: top;\n",
       "    }\n",
       "\n",
       "    .dataframe thead th {\n",
       "        text-align: right;\n",
       "    }\n",
       "</style>\n",
       "<table border=\"1\" class=\"dataframe\">\n",
       "  <thead>\n",
       "    <tr style=\"text-align: right;\">\n",
       "      <th></th>\n",
       "      <th>age</th>\n",
       "      <th>sex_male</th>\n",
       "      <th>alone</th>\n",
       "    </tr>\n",
       "    <tr>\n",
       "      <th>high_class</th>\n",
       "      <th></th>\n",
       "      <th></th>\n",
       "      <th></th>\n",
       "    </tr>\n",
       "  </thead>\n",
       "  <tbody>\n",
       "    <tr>\n",
       "      <th>False</th>\n",
       "      <td>25.14</td>\n",
       "      <td>0.71</td>\n",
       "      <td>0.63</td>\n",
       "    </tr>\n",
       "    <tr>\n",
       "      <th>True</th>\n",
       "      <td>34.21</td>\n",
       "      <td>0.56</td>\n",
       "      <td>0.50</td>\n",
       "    </tr>\n",
       "  </tbody>\n",
       "</table>\n",
       "</div>"
      ],
      "text/plain": [
       "              age  sex_male  alone\n",
       "high_class                        \n",
       "False       25.14      0.71   0.63\n",
       "True        34.21      0.56   0.50"
      ]
     },
     "execution_count": 82,
     "metadata": {},
     "output_type": "execute_result"
    }
   ],
   "source": [
    "X.groupby(D)[['age','sex_male','alone']].mean().round(2)"
   ]
  },
  {
   "cell_type": "code",
   "execution_count": 83,
   "metadata": {},
   "outputs": [
    {
     "name": "stdout",
     "output_type": "stream",
     "text": [
      "Number of observations matched: 611, max. age difference: 2\n",
      "Number of observations matched: 662, max. age difference: 5\n",
      "Number of observations matched: 679, max. age difference: 10\n",
      "Number of observations matched: 687, max. age difference: 15\n"
     ]
    }
   ],
   "source": [
    "exact_cols = ['age_group', 'alone','sex_male']\n",
    "\n",
    "for age_diff in [2,5,10,15]:\n",
    "\n",
    "    X['age_group'] =  (X.age // age_diff)\n",
    "    match_count = pd.DataFrame(\n",
    "                               {'treat':X[D].groupby(exact_cols).size(), \n",
    "                               'control':X[~D].groupby(exact_cols).size()}\n",
    "                              )\n",
    "\n",
    "    n_obs_matched = int(match_count.dropna().sum().sum())\n",
    "    print(f'Number of observations matched: {n_obs_matched}, max. age difference: {age_diff}')"
   ]
  },
  {
   "cell_type": "markdown",
   "metadata": {},
   "source": [
    "Continue with age difference = 5.\n",
    "\n",
    "> **Ex. 4.1.3:** Compute the average treatment effect by using (coarsened) exact matching on `age` (i.e. on `age_group`). \n",
    ">\n",
    ">Comment on the result. How does the group treatment effects compare to the ATE you found in 4.1.2?"
   ]
  },
  {
   "cell_type": "code",
   "execution_count": 84,
   "metadata": {},
   "outputs": [],
   "source": [
    "from sklearn.neighbors import RadiusNeighborsRegressor"
   ]
  },
  {
   "cell_type": "code",
   "execution_count": 85,
   "metadata": {},
   "outputs": [
    {
     "name": "stdout",
     "output_type": "stream",
     "text": [
      "ATE: 0.109, 95% CI: (-0.703, 0.922)\n",
      "The estimate is very imprecise and we cannot reject a null. In any case it is mucher lower than the naive ATE.\n"
     ]
    },
    {
     "name": "stderr",
     "output_type": "stream",
     "text": [
      "C:\\Users\\qsd161\\AppData\\Local\\Continuum\\miniconda3\\lib\\site-packages\\sklearn\\neighbors\\_regression.py:362: UserWarning: One or more samples have no neighbors within specified radius; predicting NaN.\n",
      "  warnings.warn(empty_warning_msg)\n"
     ]
    }
   ],
   "source": [
    "X['age_group'] = (X.age // 5)\n",
    "\n",
    "exact_cols = ['age_group', 'alone','sex_male']\n",
    "\n",
    "# We want to fit a RNR on the treatment group,\n",
    "# and use it to impute the counterfactual treatment\n",
    "# effect Y1 in the control group.\n",
    "rnr_tgroup = RadiusNeighborsRegressor(radius = 0)\n",
    "rnr_tgroup.fit(X.loc[D, exact_cols], y[D])\n",
    "imputed_Y1 = rnr_tgroup.predict(X.loc[~D, exact_cols])\n",
    "\n",
    "# Next a RNR on the control group to predict Y0 for those\n",
    "# who were treated \n",
    "rnr_cgroup = RadiusNeighborsRegressor(radius = 0)\n",
    "rnr_cgroup.fit(X.loc[~D, exact_cols], y[~D])\n",
    "imputed_Y0 = rnr_tgroup.predict(X.loc[D, exact_cols])\n",
    "\n",
    "# Differences\n",
    "diff_treated = y[D] - imputed_Y0\n",
    "diff_control = imputed_Y1 - y[~D]\n",
    "diffs = np.concatenate([diff_treated, diff_control])\n",
    "\n",
    "# Compute ATE and sd(ATE)\n",
    "mu,se = np.mean(diffs[~np.isnan(diffs)]), np.std(diffs[~np.isnan(diffs)])\n",
    "\n",
    "ci95 = '(%.3f, %.3f)' % (mu-se*1.96, mu+se*1.96)\n",
    "    \n",
    "print(f'ATE: {round(mu,3)}, 95% CI: {ci95}')\n",
    "print('The estimate is very imprecise and we cannot reject a null. In any case it is mucher lower than the naive ATE.')"
   ]
  },
  {
   "cell_type": "markdown",
   "metadata": {},
   "source": [
    "> **Ex. 4.1.4:** Estimate a logistic regression model for predicting the passenger class variable (i.e. `D`, the treatment indicator)."
   ]
  },
  {
   "cell_type": "code",
   "execution_count": 86,
   "metadata": {},
   "outputs": [],
   "source": [
    "from sklearn.impute import SimpleImputer\n",
    "from sklearn.pipeline import make_pipeline\n",
    "from sklearn.linear_model import LogisticRegression, LinearRegression\n",
    "\n",
    "lr_pipe = make_pipeline(SimpleImputer(),\n",
    "                        LogisticRegression(max_iter = 1000))\n",
    "lr_pipe.fit(X, D)\n",
    "p = lr_pipe.predict_proba(X)"
   ]
  },
  {
   "cell_type": "markdown",
   "metadata": {},
   "source": [
    "*Answer*:\n",
    "\n",
    "- We could have used other predictive models, e.g. random forest, as the propensity score is just a predictive probability, see slides for details.\n",
    "- We could have selected relevant features based on theory or optimized model out-of-sample. "
   ]
  },
  {
   "cell_type": "markdown",
   "metadata": {},
   "source": [
    "> **Ex. 4.1.6:** What is the overlap of predicted probabilities? What happens if you estimate the model without `fare` and `deck`? Comment\n",
    ">\n",
    "> Why do `fare` and `deck` matter a lot in this setting, try to draw a causal diagram that might illuminate your discussion."
   ]
  },
  {
   "cell_type": "code",
   "execution_count": 90,
   "metadata": {},
   "outputs": [
    {
     "data": {
      "image/png": "[encoded data removed]",
      "text/plain": [
       "<Figure size 432x288 with 1 Axes>"
      ]
     },
     "metadata": {
      "needs_background": "light"
     },
     "output_type": "display_data"
    }
   ],
   "source": [
    "# overlap for model WITH fare and deck\n",
    "\n",
    "f,ax = plt.subplots()\n",
    "sns.distplot(p[D==1,1], ax=ax, label='1st/2nd class')\n",
    "sns.distplot(p[D==0,1], ax=ax, label='3rd class')\n",
    "ax.legend()\n",
    "ax.set_xlim(0,1)\n",
    "sns.despine(f)"
   ]
  },
  {
   "cell_type": "code",
   "execution_count": 91,
   "metadata": {},
   "outputs": [
    {
     "data": {
      "image/png": "[encoded data removed]",
      "text/plain": [
       "<Figure size 432x288 with 1 Axes>"
      ]
     },
     "metadata": {
      "needs_background": "light"
     },
     "output_type": "display_data"
    }
   ],
   "source": [
    "# overlap for model WITHOUT fare and deck\n",
    "\n",
    "X_alt = pd.get_dummies(df.drop(['pclass','class', 'alive', 'fare', 'deck'],axis=1), drop_first=True)\n",
    "\n",
    "lr_pipe.fit(X_alt, D)\n",
    "p = lr_pipe.predict_proba(X_alt)\n",
    "\n",
    "f,ax = plt.subplots()\n",
    "sns.distplot(p[D==1,1], ax=ax, label='1st/2nd class')\n",
    "sns.distplot(p[D==0,1], ax=ax, label='3rd class')\n",
    "ax.legend()\n",
    "ax.set_xlim(0,1)\n",
    "sns.despine(f)"
   ]
  },
  {
   "cell_type": "markdown",
   "metadata": {},
   "source": [
    "*Answer*: \n",
    "\n",
    "The overlap is almost non-existing when including fare and deck. This is because the fare and deck are (obviously) good predictors of the passengers class (remember from history lessons that 3rd class passengers were placed on the lower decks of the ship). Thus when accounting for them, the certainty of classes increases and the overlap in propensities is small. \n",
    "\n",
    "```\n",
    "survival probability <- class -> fare, deck\n",
    "                          ^\n",
    "                          | \n",
    "                  other passenger traits\n",
    "```\n"
   ]
  },
  {
   "cell_type": "markdown",
   "metadata": {},
   "source": [
    "> **Ex. 4.1.7:** Use a 5-nearest-neighbors matching in propensity space to compute the average treatment effect. Bootstrap the 95 pct. confidence interval of the ATE. What happens if you select only propensity score values with high common support, i.e. between 0.2 and 0.8?"
   ]
  },
  {
   "cell_type": "code",
   "execution_count": 12,
   "metadata": {},
   "outputs": [],
   "source": [
    "from sklearn.neighbors import KNeighborsRegressor"
   ]
  },
  {
   "cell_type": "code",
   "execution_count": 13,
   "metadata": {},
   "outputs": [
    {
     "name": "stdout",
     "output_type": "stream",
     "text": [
      "ATE: 0.01\n",
      "ATE: 0.01\n"
     ]
    }
   ],
   "source": [
    "n_neighbors = 5\n",
    "\n",
    "thresholds_p = [(0,1), (.2, .8)]\n",
    "\n",
    "for threshold_lower, threshold_upper in thresholds_p:\n",
    "\n",
    "    selection = (p[:,1] >= threshold_lower) & (p[:,1] <= threshold_upper)\n",
    "    \n",
    "    p_t = p[(D==1) & selection,1].reshape(-1,1)   # Propensity of treatment for the treated\n",
    "    y_t = y.values[(D==1) & selection]            # Outcome for the treated\n",
    "    \n",
    "    p_c = p[(D==0) & selection,1].reshape(-1,1)   # Propensity for the control\n",
    "    y_c = y.values[(D==0) & selection]            # Outcome for the control\n",
    "\n",
    "    # Predict counterfactual Y1 to use for the control individuals\n",
    "    psm_nn5_t = KNeighborsRegressor(n_neighbors=n_neighbors)\n",
    "    psm_nn5_t.fit(p_t, y_t)\n",
    "    diff_match_c = psm_nn5_t.predict(p_c) - y_c\n",
    "    \n",
    "    # Predict counterfactual Y0 to use with the treatment individuals\n",
    "    psm_nn5_c = KNeighborsRegressor(n_neighbors=n_neighbors)\n",
    "    psm_nn5_c.fit(p_c, y_c)\n",
    "    diff_match_t = y_t - psm_nn5_c.predict(p_t)\n",
    "\n",
    "    diff_match = np.concatenate([diff_match_t, diff_match_c])\n",
    "    mu = diff_match.mean()\n",
    "        \n",
    "    print('ATE: {}'.format(round(mu,2)))\n"
   ]
  },
  {
   "cell_type": "markdown",
   "metadata": {},
   "source": [
    "> **Ex. 4.1.7:** (BONUS) How might we improve on the approach above?"
   ]
  },
  {
   "cell_type": "markdown",
   "metadata": {},
   "source": [
    "- We could estimate uncertainty of ATE. This could be done using inverse probabiltiy weighting and bootstrapping.\n",
    "- We could have corrected for observable differences between treatment and control in age. "
   ]
  },
  {
   "cell_type": "markdown",
   "metadata": {},
   "source": [
    "## 4.2 Honest trees\n",
    "\n",
    "In this problem we will try to implement and understand some of the ideas used in [Athey, Imbens (2015)](https://www.pnas.org/content/pnas/113/27/7353.full.pdf) to develop _Honest Inference_ in desicion tree models. The paper begins by covering honesty in a setting of population averages, and for estimating conditional means; so you will need to look towards the second half of the paper to get an impression of it's use for treatment-effect estimation.\n",
    "\n",
    "> **Ex. 4.2.1:** What does it mean that a tree is _honest?_ In particular what are the implications in terms of \n",
    "> * The intuition for why honesty is required in order to get good local treatment effect estimates?\n",
    "> * The practical implementation of the DT algorithm?"
   ]
  },
  {
   "cell_type": "code",
   "execution_count": 14,
   "metadata": {},
   "outputs": [],
   "source": [
    "# 1) In normal CART we split the data, and compute leaf predictions, using the same matrix X. \n",
    "#    This means leaf predictions overfits the variance of leafs. Thus \"new data\" passed \n",
    "#    through the tree will tend to have higher within-leaf variance than the original data \n",
    "#    used for training.\n",
    "# 2) The honest procedure consists of using a separate dataset to estimate the leaf predictions,\n",
    "#    from the one used to determine the splits. \n",
    "#    The algorithms criteria for splitting is modified to take this extra step into account \n",
    "#    (in expectation terms)."
   ]
  },
  {
   "cell_type": "markdown",
   "metadata": {},
   "source": [
    "> **Ex.4.2.2:** Use the `load_42_data` function to load the boston house-price dataset. Split your dataset in two. A 50% test set and a 50% train set using `sklearn.model_selection.train_test_split`. "
   ]
  },
  {
   "cell_type": "code",
   "execution_count": 15,
   "metadata": {},
   "outputs": [],
   "source": [
    "def load_42_data():\n",
    "    from sklearn.datasets import load_boston\n",
    "    df = load_boston()\n",
    "    df = pd.DataFrame(np.c_[df['data'], df['target']], columns = list(df['feature_names']) + ['y'])\n",
    "    return df"
   ]
  },
  {
   "cell_type": "code",
   "execution_count": 16,
   "metadata": {},
   "outputs": [],
   "source": [
    "from sklearn.model_selection import train_test_split\n",
    "\n",
    "df = load_42_data()\n",
    "X, y = df.drop(['y'], axis = 1), df['y']\n",
    "X_train, X_test, y_train, y_test = map(lambda x: x.values, train_test_split(X,y, train_size = 0.5))"
   ]
  },
  {
   "cell_type": "markdown",
   "metadata": {},
   "source": [
    "> **Ex 4.2.3:** Identify the column and value in `X_train` that minimizes the (cross split weighted) sum of squared errors in the training data. Split the test data according to this value and report the mean and standard deviation of `y` in both subsamples for both the train and test data.\n",
    ">\n",
    "> Comment on your results. How different are the two subsamples from the overall mean and standard deviation?"
   ]
  },
  {
   "cell_type": "code",
   "execution_count": 17,
   "metadata": {},
   "outputs": [],
   "source": [
    "def MSE(yup, ydn):\n",
    "    return  np.sum((yup - yup.mean())**2) +  np.sum((ydn - ydn.mean())**2)\n",
    "\n",
    "def find_best_split(X, y):\n",
    "    m = X.shape[1]\n",
    "    for col_idx in range(m):\n",
    "        feature_values = np.unique(X[:,col_idx])\n",
    "\n",
    "        best_score = np.inf\n",
    "        for value in feature_values:\n",
    "            yup = y[np.where(X[:,col_idx] > value)]\n",
    "            ydn = y[np.where(X[:,col_idx] <= value)]\n",
    "\n",
    "            new_score = MSE(yup, ydn)\n",
    "            if new_score < best_score:\n",
    "                best_score = new_score\n",
    "                best_col = col_idx\n",
    "                best_val = value\n",
    "                \n",
    "    return best_col, best_val \n",
    "\n",
    "def Mask(X, best_col, best_val):\n",
    "    return np.where(X[:,best_col] > best_val)"
   ]
  },
  {
   "cell_type": "code",
   "execution_count": 18,
   "metadata": {},
   "outputs": [
    {
     "name": "stdout",
     "output_type": "stream",
     "text": [
      "\n",
      "Overall means (standard deviations)\n",
      "-------------\n",
      "train (n=253): 22.56 (9.38)\n",
      "test (n=253):  22.50 (9.00)\n",
      "\n",
      "Subset means (standard deviations)\n",
      "-------------\n",
      "    Up:\n",
      "        train (n=146): 17.10 (4.76)\n",
      "        test (n=154): 17.83 (5.08)\n",
      "    Down:\n",
      "        train (n=146): 17.10 (4.76)\n",
      "        test (n=154): 17.83 (5.08)\n",
      "                \n",
      "\n"
     ]
    },
    {
     "name": "stderr",
     "output_type": "stream",
     "text": [
      "C:\\Users\\qsd161\\AppData\\Local\\Continuum\\miniconda3\\lib\\site-packages\\ipykernel_launcher.py:2: RuntimeWarning: Mean of empty slice.\n",
      "  \n",
      "C:\\Users\\qsd161\\AppData\\Local\\Continuum\\miniconda3\\lib\\site-packages\\numpy\\core\\_methods.py:161: RuntimeWarning: invalid value encountered in double_scalars\n",
      "  ret = ret.dtype.type(ret / rcount)\n"
     ]
    }
   ],
   "source": [
    "best_col, best_val = find_best_split(X_train, y_train)\n",
    "mask = lambda X: Mask(X, best_col, best_val)\n",
    "\n",
    "tr_overall_mean = y_train.mean()\n",
    "te_overall_mean = y_test.mean()\n",
    "tr_overall_std = y_train.std()\n",
    "te_overall_std = y_test.std()\n",
    "\n",
    "\n",
    "y_uptr_mean = y_train[mask(X_train)].mean()\n",
    "y_uptr_std = y_train[mask(X_train)].std()\n",
    "y_dntr_mean = y_train[mask(X_train)].mean()\n",
    "y_dntr_std = y_train[mask(X_train)].std()\n",
    "\n",
    "y_upte_mean = y_test[mask(X_test)].mean()\n",
    "y_upte_std = y_test[mask(X_test)].std()\n",
    "y_dnte_mean = y_test[mask(X_test)].mean()\n",
    "y_dnte_std = y_test[mask(X_test)].std()\n",
    "\n",
    "msg = f\"\"\"\n",
    "Overall means (standard deviations)\n",
    "-------------\n",
    "train (n={y_train.shape[0]}): {tr_overall_mean:.2f} ({tr_overall_std:.2f})\n",
    "test (n={y_test.shape[0]}):  {te_overall_mean:.2f} ({te_overall_std:.2f})\n",
    "\n",
    "Subset means (standard deviations)\n",
    "-------------\n",
    "    Up:\n",
    "        train (n={y_train[mask(X_train)].shape[0]}): {y_uptr_mean:.2f} ({y_uptr_std:.2f})\n",
    "        test (n={y_test[mask(X_test)].shape[0]}): {y_upte_mean:.2f} ({y_upte_std:.2f})\n",
    "    Down:\n",
    "        train (n={y_train[mask(X_train)].shape[0]}): {y_dntr_mean:.2f} ({y_dntr_std:.2f})\n",
    "        test (n={y_test[mask(X_test)].shape[0]}): {y_dnte_mean:.2f} ({y_dnte_std:.2f})\n",
    "                \n",
    "\"\"\"\n",
    "print(msg)"
   ]
  },
  {
   "cell_type": "markdown",
   "metadata": {},
   "source": [
    "> **Ex 4.2.4:** Redo your analysis from 4.2.3, but this time split in a 66% train dataset and a 33% test dataset. Split the train data once more 50/50 to get a train and an estimation dataset. \n",
    ">\n",
    "> Focus only on one of the subsets (i.e. either the left or right leaf). \n",
    ">\n",
    "> Report the same statistics as before, but for train, estimation and test samples. This time, show your results as density plots graphing 5.000 bootstrap replications of the whole procedure. If your pc is slow, you might need to reduce the number of replications to 1000.\n"
   ]
  },
  {
   "cell_type": "code",
   "execution_count": 19,
   "metadata": {},
   "outputs": [
    {
     "name": "stderr",
     "output_type": "stream",
     "text": [
      "C:\\Users\\qsd161\\AppData\\Local\\Continuum\\miniconda3\\lib\\site-packages\\ipykernel_launcher.py:2: RuntimeWarning: Mean of empty slice.\n",
      "  \n"
     ]
    }
   ],
   "source": [
    "UP_TR_MEAN = []\n",
    "UP_TR_SD = []\n",
    "UP_TE_MEAN = []\n",
    "UP_TE_SD = []\n",
    "UP_EST_MEAN = []\n",
    "UP_EST_SD = []\n",
    "\n",
    "\n",
    "for _ in range(5000):\n",
    "    df = load_42_data().sample(frac = 1, replace = True)\n",
    "    X, y = df.drop(['y'], axis = 1), df['y']\n",
    "    X_train, X_test, y_train, y_test = map(lambda x: x.values, train_test_split(X,y, train_size = 0.66))\n",
    "    X_train, X_est, y_train, y_est = train_test_split(X_train,y_train, train_size = 0.5)\n",
    "    \n",
    "    best_col, best_val = find_best_split(X_train, y_train)\n",
    "    mask = lambda X: Mask(X, best_col, best_val)\n",
    "\n",
    "    y_uptr_mean = y_train[mask(X_train)].mean()\n",
    "    y_uptr_std = y_train[mask(X_train)].std()\n",
    "\n",
    "    y_upest_mean = y_est[mask(X_est)].mean()\n",
    "    y_upest_std = y_est[mask(X_est)].std()\n",
    "\n",
    "    y_upte_mean = y_test[mask(X_test)].mean()\n",
    "    y_upte_std = y_test[mask(X_test)].std()\n",
    "\n",
    "    \n",
    "    UP_TR_MEAN.append(y_uptr_mean)    \n",
    "    UP_TE_MEAN.append(y_upte_mean)\n",
    "    UP_EST_MEAN.append(y_upest_mean)\n",
    "    \n",
    "    UP_TR_SD.append(y_uptr_std)\n",
    "    UP_TE_SD.append(y_upte_std)\n",
    "    UP_EST_SD.append(y_upest_std)"
   ]
  },
  {
   "cell_type": "code",
   "execution_count": 20,
   "metadata": {},
   "outputs": [
    {
     "data": {
      "text/plain": [
       "Text(0.5, 1.0, 'Mean')"
      ]
     },
     "execution_count": 20,
     "metadata": {},
     "output_type": "execute_result"
    },
    {
     "data": {
      "image/png": "[encoded data removed]",
      "text/plain": [
       "<Figure size 864x432 with 2 Axes>"
      ]
     },
     "metadata": {
      "needs_background": "light"
     },
     "output_type": "display_data"
    }
   ],
   "source": [
    "import seaborn as sns\n",
    "\n",
    "fig, ax = plt.subplots(1,2, figsize = (12,6))\n",
    "\n",
    "sns.distplot(UP_TR_SD, hist = False, label = 'Train', ax = ax[0])\n",
    "sns.distplot(UP_TE_SD, hist = False, label = 'Test', ax = ax[0])\n",
    "sns.distplot(UP_EST_SD, hist = False, label = 'Estimation', ax = ax[0])\n",
    "ax[0].set_title('Standard deviation')\n",
    "\n",
    "sns.distplot(UP_TR_MEAN, hist = False, label = 'Train', ax = ax[1])\n",
    "sns.distplot(UP_TE_MEAN, hist = False, label = 'Test', ax = ax[1])\n",
    "sns.distplot(UP_EST_MEAN, hist = False, label = 'Estimation', ax = ax[1])\n",
    "ax[1].set_title('Mean')"
   ]
  },
  {
   "cell_type": "code",
   "execution_count": 21,
   "metadata": {},
   "outputs": [
    {
     "data": {
      "text/plain": [
       "(5.390056135677196, 5.807638799505563, 5.795911524792436)"
      ]
     },
     "execution_count": 21,
     "metadata": {},
     "output_type": "execute_result"
    }
   ],
   "source": [
    "np.mean(UP_TR_SD), np.mean(UP_EST_SD), np.mean(UP_TE_SD)"
   ]
  },
  {
   "cell_type": "code",
   "execution_count": null,
   "metadata": {},
   "outputs": [],
   "source": []
  }
 ],
 "metadata": {
  "kernelspec": {
   "display_name": "Python 3",
   "language": "python",
   "name": "python3"
  },
  "language_info": {
   "codemirror_mode": {
    "name": "ipython",
    "version": 3
   },
   "file_extension": ".py",
   "mimetype": "text/x-python",
   "name": "python",
   "nbconvert_exporter": "python",
   "pygments_lexer": "ipython3",
   "version": "3.7.4"
  }
 },
 "nbformat": 4,
 "nbformat_minor": 4
}
