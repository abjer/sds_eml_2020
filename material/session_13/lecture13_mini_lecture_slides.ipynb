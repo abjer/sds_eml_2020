{
 "cells": [
  {
   "cell_type": "markdown",
   "metadata": {
    "slideshow": {
     "slide_type": "slide"
    }
   },
   "source": [
    "# Session 13:\n",
    "## Social network formation\n",
    "\n",
    "*Andreas Bjerre-Nielsen*"
   ]
  },
  {
   "cell_type": "markdown",
   "metadata": {
    "slideshow": {
     "slide_type": "slide"
    }
   },
   "source": [
    "## Agenda\n",
    "\n",
    "Session on network formation\n",
    "1. [Recap](#Recap)\n",
    "1. [Introduction](#Introduction-to-network-formation)\n",
    "1. [Measuring sorting](#Measuring-sorting)\n",
    "1. [Forming links independently](#Forming-links-independently)\n",
    "1. [Forming links with interdependence](#Forming-links-with-interdependence)\n",
    "1. [A model of subgraphs](#A-model-of-subgraphs)"
   ]
  },
  {
   "cell_type": "markdown",
   "metadata": {
    "slideshow": {
     "slide_type": "slide"
    }
   },
   "source": [
    "# Recap\n",
    "\n",
    "What challenges were faced when measuring peer effects?\n",
    "\n",
    "- problems with reflection and selection\n",
    "\n",
    "What are some of the potential ways to overcome these problems?\n",
    "\n",
    "- selection problem can be solved with randomization (caveats apply)\n",
    "- reflection problem requires more elaborate structural model, possibly with dynamic data of beliefs etc."
   ]
  },
  {
   "cell_type": "markdown",
   "metadata": {
    "slideshow": {
     "slide_type": "slide"
    }
   },
   "source": [
    "# Introduction to network formation\n"
   ]
  },
  {
   "cell_type": "markdown",
   "metadata": {
    "slideshow": {
     "slide_type": "slide"
    }
   },
   "source": [
    "## Networks are fundamental\n",
    "\n",
    "Shape our lives, opportunities and much more\n",
    "\n",
    "Important for modelling - are people socially connected or independent\n",
    "- Most economic models assume independence"
   ]
  },
  {
   "cell_type": "markdown",
   "metadata": {
    "slideshow": {
     "slide_type": "slide"
    }
   },
   "source": [
    "## The fundamental patterns\n",
    "\n",
    "Think about your top five friends: \n",
    "\n",
    "- when, where did you meet them? \n",
    "- how many friends do you have in common?\n",
    "- how similar are you?\n",
    "\n",
    "We are interested in understanding ***how and why*** **do networks form?**"
   ]
  },
  {
   "cell_type": "markdown",
   "metadata": {
    "slideshow": {
     "slide_type": "slide"
    }
   },
   "source": [
    "## Mechanisms of social interaction \n",
    "\n",
    "What characterizes networks sampled? \n",
    "\n",
    "[Rivera et al. (2010)](https://doi.org/10.1146/annurev.soc.34.040507.134743) propose three mechanisms:\n",
    "\n",
    "- Assortative (aka. homophily)\n",
    "  - similarity in personal characteristics\n",
    "\n",
    "- Relational \n",
    "  - e.g. shared friends, family\n",
    "\n",
    "- Proximity \n",
    "  - shared space for meeting, e.g. same school, city"
   ]
  },
  {
   "cell_type": "markdown",
   "metadata": {
    "slideshow": {
     "slide_type": "slide"
    }
   },
   "source": [
    "## Birds of a feather flock together\n",
    "\n",
    "Old proverb - describes that people self select in friendships by ***similarity***. Confirmed by large meta-study [McPherson et al. (2000)](https://www.annualreviews.org/doi/10.1146/annurev.soc.27.1.415) along the following dimensions:\n",
    "- Socioeconomic status, education, ability\n",
    "- Ethnicity, culture, age, gender\n",
    "- Interests and hobbies\n",
    "- Spatially, within country and across country\n",
    "\n",
    "This pattern is called **homophily**, **sorting** and **assortative matching** / **mixing**."
   ]
  },
  {
   "cell_type": "markdown",
   "metadata": {
    "slideshow": {
     "slide_type": "slide"
    }
   },
   "source": [
    "## Sorting in other \"networks\"\n",
    "\n",
    "Research in economics and sociology has also focused sorting across:\n",
    "\n",
    "Institutions\n",
    "- Marriages  ([Becker, 1973](https://www.jstor.org/stable/1831130); [Mare, 1991](https://www.jstor.org/stable/2095670?seq=1#page_scan_tab_contents))\n",
    "- Firms, government departments as work places ([Mendes et al., 2010](https://www.sciencedirect.com/science/article/abs/pii/S0927537110000618))\n",
    "- Schools ([Reardon and Owens, 2014](https://www.annualreviews.org/doi/abs/10.1146/annurev-soc-071913-043152))\n",
    "                                                                                   \n",
    "Space                                                                                   \n",
    "- Residential areas ([Massey and Denton, 1988](https://academic.oup.com/sf/article/67/2/281/2231999); [Tiebout, 1956](https://www.journals.uchicago.edu/doi/pdfplus/10.1086/257839))\n"
   ]
  },
  {
   "cell_type": "markdown",
   "metadata": {
    "slideshow": {
     "slide_type": "slide"
    }
   },
   "source": [
    "## Implications of sorting\n",
    "\n",
    "- increases inequality among households and across generations ([Kremer, 1997](https://academic.oup.com/qje/article-abstract/112/1/115/1870886); [Greenwood et al., 2014](https://www.aeaweb.org/articles?id=10.1257/aer.104.5.348)).\n",
    "- leads to lower spread of information across sub-populations ([Golub and Jackson, 2012](https://academic.oup.com/qje/article-abstract/127/3/1287/1923572))\n",
    "- rational agents disregard positive spillovers  and form networks that are excessively assortative ([Bjerre-Nielsen, 2020](https://doi.org/10.1016/j.jet.2020.105028))"
   ]
  },
  {
   "cell_type": "markdown",
   "metadata": {
    "slideshow": {
     "slide_type": "slide"
    }
   },
   "source": [
    "## Policy and implications of sorting\n",
    "\n",
    "Sorting in across institutions and in space has been subject to laws in recent history:\n",
    "- United States: \n",
    "    - School racial segregration was abolished in 1954 (Brown vs Board of Edu.)\n",
    "    - Residential racial segregration was abolished in 1968 (Fair Housing Act)\n",
    "- South Africa: Apartheid policies that segregated white and black \n"
   ]
  },
  {
   "cell_type": "markdown",
   "metadata": {
    "slideshow": {
     "slide_type": "slide"
    }
   },
   "source": [
    "# Measuring sorting"
   ]
  },
  {
   "cell_type": "markdown",
   "metadata": {
    "slideshow": {
     "slide_type": "slide"
    }
   },
   "source": [
    "## Measuring homophily\n",
    "\n",
    "We define **homophily index** inspired by [Currarini et al. (2009)](https://doi.org/10.2139/ssrn.1021650):\n",
    "- share of edges that are same type: $H = \\frac{s}{s+d}$\n",
    "    - $s$: number of edges with same type\n",
    "    - $d$: number of edges with different type\n",
    "- possible range [0,1]\n",
    "\n",
    "If we observe that $H=0.8$ on gender what should we conclude?"
   ]
  },
  {
   "cell_type": "markdown",
   "metadata": {
    "slideshow": {
     "slide_type": "fragment"
    }
   },
   "source": [
    "- Nothing!!! We need to know the potential to sort! \n"
   ]
  },
  {
   "cell_type": "markdown",
   "metadata": {
    "slideshow": {
     "slide_type": "slide"
    }
   },
   "source": [
    "## Potential homophily\n",
    "\n",
    "We define **baseline homophily** as: \n",
    "- We count fraction of potential edges in population of nodes which are same type:\n",
    "\n",
    "\\begin{equation}B=\\frac{\\sum_t\\#potential(n_t)}{\\#potential(n)}, \\qquad \\#potential(k)=\\frac{k\\cdot(k-1)}{2}\\end{equation}\n",
    "\n",
    "- Interpretation: Expected homophily from random link formation.     \n",
    "\n"
   ]
  },
  {
   "cell_type": "markdown",
   "metadata": {
    "slideshow": {
     "slide_type": "slide"
    }
   },
   "source": [
    "## Refined homophily measure\n",
    "    \n",
    "We define **inbreeding homophily** as:      \n",
    "\n",
    "\\begin{equation}IH=\\frac{H-B}{1-B}\\end{equation}\n",
    "\n",
    "Measures homophily in excess of potential - has upper bound of unity!"
   ]
  },
  {
   "cell_type": "markdown",
   "metadata": {
    "slideshow": {
     "slide_type": "slide"
    }
   },
   "source": [
    "## Revising conclusions\n",
    "    \n",
    "Resume example with $H=0.8$. Suppose our sample comes from a college for nurses with 90 women and 10 men?\n",
    "\n",
    "<center><img src=\"https://farm8.staticflickr.com/7709/26708104940_93ca45fb1f_b.jpg\" alt=\"nurses in college\" width=\"500\"></center>\n"
   ]
  },
  {
   "cell_type": "markdown",
   "metadata": {
    "slideshow": {
     "slide_type": "fragment"
    }
   },
   "source": [
    "- $B = \\frac{4050}{4950}\\eqsim0.82$ where\n",
    "    - edges of same gender: $4050$ ($=\\frac{90\\cdot89+10\\cdot9}{2}$)\n",
    "    - total edges: $4950$ ($=\\frac{100\\cdot99}{2}$)\n",
    "- $IH=\\frac{0.8-0.82}{1-0.82}\\eqsim-0.05$; we have ***inbreeding heterophily***!\n",
    "\n"
   ]
  },
  {
   "cell_type": "markdown",
   "metadata": {
    "slideshow": {
     "slide_type": "slide"
    }
   },
   "source": [
    "# Forming links independently"
   ]
  },
  {
   "cell_type": "markdown",
   "metadata": {
    "slideshow": {
     "slide_type": "slide"
    }
   },
   "source": [
    "## Basic model\n",
    "\n",
    "Erdos-Renyi graph:\n",
    "- Each link has a constant probability of forming\n",
    "\n",
    "- The contant probability implies edges follow a Bernoulli (i.i.d.) distribution:\n",
    "    - Indendence \n",
    "    - Identical distribution\n",
    "- Only need to compute likelihood of forming a link.\n",
    "    - E.g. estimate using logistic regression with constant."
   ]
  },
  {
   "cell_type": "markdown",
   "metadata": {
    "slideshow": {
     "slide_type": "slide"
    }
   },
   "source": [
    "## Issues with basic model\n",
    "\n",
    "Cannot account for basic things, e.g. sorting\n",
    "\n",
    "Could we measure sorting with correlation?"
   ]
  },
  {
   "cell_type": "markdown",
   "metadata": {
    "slideshow": {
     "slide_type": "slide"
    }
   },
   "source": [
    "## Extending basic model\n",
    "\n",
    "Can we estimate empirically whether covariates affect link formation?\n",
    "\n",
    "We introduce into estimation of the Erdos-Renyi graph, \n",
    "- Estimation using logistic regression.\n",
    "- feasible covariates include:\n",
    "    - node characteristics, e.g. extrovert people form more relations\n",
    "    - similarity of the nodes, e.g. high ability associate more\n",
    "\n",
    "Can we do inference with this model?"
   ]
  },
  {
   "cell_type": "markdown",
   "metadata": {
    "slideshow": {
     "slide_type": "slide"
    }
   },
   "source": [
    "## Extending basic model (2)\n",
    "\n",
    "There is at least dependence between links within an individual.\n",
    "\n",
    "- We need to cluster errors at person level ([Aronow et al. (2015)](https://www.jstor.org/stable/24573193)).\n",
    "\n",
    "We can do inference (if we beleive the model)\n",
    "\n",
    "- We can test for multiple attributes by using a random graph \n"
   ]
  },
  {
   "cell_type": "markdown",
   "metadata": {
    "slideshow": {
     "slide_type": "slide"
    }
   },
   "source": [
    "## Handling power laws\n",
    "\n",
    "- [Chatterjee, Diaconis, Sly (2011)](https://doi.org/10.1214/10-aap728) extends random graph to handle hetereogeneous degrees (e.g. power law distribution)\n",
    "\n",
    "- [Graham (2017)](https://doi.org/10.3982/ecta12679) extends the model to allow for unobserved homophily. \n",
    "\n",
    "    - Assume there is a latent characteristic that people sort on. \n",
    "    - This characteristic is a measure of \"attractiveness\" and also implies more connections. \n",
    "    - Use econometric model to measure unobserved sorting."
   ]
  },
  {
   "cell_type": "markdown",
   "metadata": {
    "slideshow": {
     "slide_type": "slide"
    }
   },
   "source": [
    "## New problems\n",
    "\n",
    "What is problematic with the random graph models?"
   ]
  },
  {
   "cell_type": "markdown",
   "metadata": {
    "slideshow": {
     "slide_type": "fragment"
    }
   },
   "source": [
    "- We assume likelihood of links forming only depend on link characteristics.    \n",
    "- Implications:\n",
    "    - Each link is formed *independently*.\n",
    "    - Cannot recreate observed propensity *clustering*, *shortest paths*, *degree distributions*."
   ]
  },
  {
   "cell_type": "markdown",
   "metadata": {
    "slideshow": {
     "slide_type": "fragment"
    }
   },
   "source": [
    "- What could go wrong?\n",
    "    - People have preferences not captured by single edges:\n",
    "        - for being in groups (clustering)\n",
    "        - being more connected in network (centrality)\n",
    "    - There are uobserved node/edge characteristics.    "
   ]
  },
  {
   "cell_type": "markdown",
   "metadata": {
    "slideshow": {
     "slide_type": "slide"
    }
   },
   "source": [
    "# Forming links with interdependence"
   ]
  },
  {
   "cell_type": "markdown",
   "metadata": {
    "slideshow": {
     "slide_type": "slide"
    }
   },
   "source": [
    "## First attempt\n",
    "\n",
    "[Frank, Strauss (1986)](https://doi.org/10.1080/01621459.1986.10478342) pioneered the use of Exponential Random Graph Models (**ERGM**)\n",
    "\n",
    "- Handles non-independent formation by writing down likelihood over ***entire*** *graph*.\n",
    "    - Can capture triangles and other motifs in networks:\n",
    "\n",
    "\n",
    "![](http://science.sciencemag.org/content/sci/323/5916/892/F2.medium.gif)\n",
    "\n"
   ]
  },
  {
   "cell_type": "markdown",
   "metadata": {
    "slideshow": {
     "slide_type": "slide"
    }
   },
   "source": [
    "## ERGM estimation\n",
    "\n",
    "[Robins, Snijders, Wang, Handcock, Pattison (2007)](https://doi.org/10.1016/j.socnet.2006.08.003) provides an overview of recent developments in ERGM\n",
    "\n",
    "- Estimation is possible using Monte Carlo Markov Chain (MCMC).\n",
    "- Idea: can express likelihood function $\\mathbb{P}[Y=y|\\theta]=\\frac{\\exp(\\theta s(y))}{c(\\theta)}$\n",
    "    \n"
   ]
  },
  {
   "cell_type": "markdown",
   "metadata": {
    "slideshow": {
     "slide_type": "slide"
    }
   },
   "source": [
    "## ERGM shortcomings\n",
    "\n",
    "What could be problematic? Is convergence guaranteed?\n"
   ]
  },
  {
   "cell_type": "markdown",
   "metadata": {
    "slideshow": {
     "slide_type": "fragment"
    }
   },
   "source": [
    "Problem 1: slow convergence\n",
    "- state space is huge: 1,000 nodes implies $2^{500,000}\\eqsim10^{130,000}$ configurations.\n",
    "    - (an estimate of atoms in the universe is $10^{82}$)\n",
    "- the problem is computationally difficult"
   ]
  },
  {
   "cell_type": "markdown",
   "metadata": {
    "slideshow": {
     "slide_type": "fragment"
    }
   },
   "source": [
    "Problem 2: degeneracy\n",
    "- [Bhamidi, Bresler, Sly (2011)](https://doi.org/10.1214/10-aap740) that ERGM models may have different parameters consistent with network\n",
    "- [Chatterjee, Diaconis (2013)](https://doi.org/10.1214/13-aos1155) proved that ERGM is many cases indistinguashable from Erdos-Reny\n",
    "    - We are back to where we started!!"
   ]
  },
  {
   "cell_type": "markdown",
   "metadata": {
    "slideshow": {
     "slide_type": "slide"
    }
   },
   "source": [
    "## Modelling social dynamics\n",
    "\n",
    "Components of a structural model\n",
    "- Who are the agents, their characteristics?\n",
    "- How do people meet? (friends, institutions?) \n",
    "- What decides if people become friends? (when meeting)"
   ]
  },
  {
   "cell_type": "markdown",
   "metadata": {
    "slideshow": {
     "slide_type": "slide"
    }
   },
   "source": [
    "## Applied structural models\n",
    "\n",
    "[Graham (2016)](http://bryangraham.github.io/econometrics/downloads/working_papers/DynamicNetworks/Homophily_and_Transitivity_April2016.pdf) develops a structural model that can distinguish between unobserved homophily and preference for participating in groups.\n",
    "\n",
    "Stochastic actor-based models by [Snijders, van de Bunt, Steglich (2010)](https://doi.org/10.1016/j.socnet.2009.02.004) use dynamic evolution. \n",
    "- See application by [Lewis, Gonzalez, Kaufmann (2012)](https://doi.org/10.1073/pnas.1109739109) to measure peer effects.\n",
    "\n",
    "\n",
    "Many more in [de Paulo (forthcoming)](https://arxiv.org/pdf/1910.07781.pdf)"
   ]
  },
  {
   "cell_type": "markdown",
   "metadata": {
    "slideshow": {
     "slide_type": "slide"
    }
   },
   "source": [
    "# A model of subgraphs"
   ]
  },
  {
   "cell_type": "markdown",
   "metadata": {
    "slideshow": {
     "slide_type": "slide"
    }
   },
   "source": [
    "## Modelling motifs\n",
    "\n",
    "[Chandrasekhar, Jackson (2018)](https://web.stanford.edu/~arungc/CJ_sugm.pdf) develops the idea of subgraph models\n",
    "\n",
    "Focus on measuring fractions of realized subgraphs.\n",
    "-  The subsgraphs are motifs, i.e. fundamental network components. Examples include triangles, bridges, stars, wheels etc.\n",
    "- Fraction is computed as actual vs. potential "
   ]
  },
  {
   "cell_type": "markdown",
   "metadata": {
    "slideshow": {
     "slide_type": "slide"
    }
   },
   "source": [
    "## Subgraph advantages\n",
    "\n",
    "[Chandrasekhar, Jackson (2018)](https://web.stanford.edu/~arungc/CJ_sugm.pdf) show some advantages of using subgraph models:\n",
    "- General approach which is applicable to many settings.\n",
    "- Sophistacted counting to ensure that motifs are not incidentally generated. \n",
    "- Ensure identification of parameters both when observing a single (large) network or multiple networks.\n",
    "\n",
    "\n",
    "\n",
    "\n",
    "\n",
    "\n"
   ]
  },
  {
   "cell_type": "markdown",
   "metadata": {
    "slideshow": {
     "slide_type": "slide"
    }
   },
   "source": [
    "## Subgraph example: counting triangles\n",
    "\n",
    "We want to avoid incidental generation of motifs. E.g. was a triangle formed at random by three edges or on purpose? How can we avoid this? We count separately:\n",
    "\n",
    "1. count actual and potential triangles\n",
    "    - actual: paths of length 3 that starts and end at the same person\n",
    "    - potential: `binomial_coef(n,3)`    \n",
    "2. count links that are not part of triangles \n",
    "    - edge selection: edges that are not part of a triangle or if formed would be a triangle\n",
    "    "
   ]
  },
  {
   "cell_type": "markdown",
   "metadata": {
    "slideshow": {
     "slide_type": "slide"
    }
   },
   "source": [
    "## Example of adjacency matrix"
   ]
  },
  {
   "cell_type": "code",
   "execution_count": 7,
   "metadata": {
    "slideshow": {
     "slide_type": "-"
    }
   },
   "outputs": [
    {
     "data": {
      "text/plain": [
       "1.0"
      ]
     },
     "execution_count": 7,
     "metadata": {},
     "output_type": "execute_result"
    }
   ],
   "source": [
    "import numpy as np\n",
    "\n",
    "A = np.matrix([[0,1,1,0],\n",
    "               [1,0,1,0],\n",
    "               [1,1,0,0],\n",
    "               [0,0,0,0]])\n",
    "\n",
    "paths_length_3 = A*A*A\n",
    "\n",
    "np.diag(paths_length_3).sum()/6"
   ]
  }
 ],
 "metadata": {
  "celltoolbar": "Slideshow",
  "kernelspec": {
   "display_name": "Python 3",
   "language": "python",
   "name": "python3"
  },
  "language_info": {
   "codemirror_mode": {
    "name": "ipython",
    "version": 3
   },
   "file_extension": ".py",
   "mimetype": "text/x-python",
   "name": "python",
   "nbconvert_exporter": "python",
   "pygments_lexer": "ipython3",
   "version": "3.7.4"
  }
 },
 "nbformat": 4,
 "nbformat_minor": 2
}
