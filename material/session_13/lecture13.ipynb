{
 "cells": [
  {
   "cell_type": "markdown",
   "metadata": {},
   "source": [
    "# Session 13: Social network formation\n",
    "\n",
    "By *Andreas Bjerre-Nielsen*\n",
    "\n",
    "#### Agenda\n",
    "\n",
    "In this lecture we will cover the following points.\n",
    "\n",
    "1. [Introduction](#Introduction-to-network-formation)\n",
    "1. [Measuring sorting](#Measuring-sorting)\n",
    "1. [Forming links independently](#Forming-links-independently)\n",
    "1. [Forming links with interdependence](#Forming-links-with-interdependence)\n",
    "1. [A model of subgraphs](#A-model-of-subgraphs)"
   ]
  },
  {
   "cell_type": "markdown",
   "metadata": {},
   "source": [
    "#### Recap of relevant material\n",
    "\n",
    "We begin by briefly reviewing the most important concepts from peer effects in the previous session. "
   ]
  },
  {
   "cell_type": "code",
   "execution_count": null,
   "metadata": {},
   "outputs": [],
   "source": [
    "from IPython.display import YouTubeVideo\n",
    "YouTubeVideo('LkjmhswXMjs', width=640, height=360)"
   ]
  },
  {
   "cell_type": "markdown",
   "metadata": {
    "slideshow": {
     "slide_type": "slide"
    }
   },
   "source": [
    "<br><br><br>\n",
    "\n",
    "# Part 1: Background and sorting concept\n"
   ]
  },
  {
   "cell_type": "markdown",
   "metadata": {
    "slideshow": {
     "slide_type": "slide"
    }
   },
   "source": [
    "#### Introduction and motivation \n",
    "\n",
    "We start out with a short introduction to the subject and provide some applications of network models."
   ]
  },
  {
   "cell_type": "code",
   "execution_count": null,
   "metadata": {},
   "outputs": [],
   "source": [
    "YouTubeVideo('dm6d8pWku-8', width=640, height=360)"
   ]
  },
  {
   "cell_type": "markdown",
   "metadata": {},
   "source": [
    "#### Measuring sorting\n",
    "In this video we conceptualize sorting a little bit more and provide information on how to measure it."
   ]
  },
  {
   "cell_type": "code",
   "execution_count": null,
   "metadata": {},
   "outputs": [],
   "source": [
    "YouTubeVideo('MTDV5RbkuWY', width=640, height=360)"
   ]
  },
  {
   "cell_type": "markdown",
   "metadata": {},
   "source": [
    "#### Exercises\n",
    "\n",
    "Here are some questions to make ensure you've grasped key points from lectures and/or readings. \n",
    "\n",
    "1. Gives examples of friendships that you have and describe them in terms of the three core mechanisms.\n",
    "1. Suppose we have a baseline homophily of 0.5, compute the inbreeding homophily for different values of homophily indices."
   ]
  },
  {
   "cell_type": "markdown",
   "metadata": {
    "slideshow": {
     "slide_type": "slide"
    }
   },
   "source": [
    "<br><br><br>\n",
    "\n",
    "# Part 2: Models of network formation\n"
   ]
  },
  {
   "cell_type": "markdown",
   "metadata": {},
   "source": [
    "#### Forming links independently\n",
    "We start with the simplest model where edges are assumed to form independently once we measure all relevant covariates. "
   ]
  },
  {
   "cell_type": "code",
   "execution_count": null,
   "metadata": {},
   "outputs": [],
   "source": [
    "YouTubeVideo('KnGnvRSDh38', width=640, height=360)"
   ]
  },
  {
   "cell_type": "markdown",
   "metadata": {},
   "source": [
    "#### Forming links with interdependence\n",
    "\n",
    "We can relax the assumption that links are formed independently. We do this by assuming specific structures of how interdependence affect agents decision of whether to form social ties."
   ]
  },
  {
   "cell_type": "code",
   "execution_count": null,
   "metadata": {},
   "outputs": [],
   "source": [
    "YouTubeVideo('LDsSJUmshyk', width=640, height=360)"
   ]
  },
  {
   "cell_type": "markdown",
   "metadata": {},
   "source": [
    "#### A model of subgraphs\n",
    "\n",
    "Although randomization is the gold standard it is seen by some as unethical. Therefore, a large literature has emerged that relies on quasi experiments for identifying various dimensions of peer effects."
   ]
  },
  {
   "cell_type": "code",
   "execution_count": null,
   "metadata": {},
   "outputs": [],
   "source": [
    "YouTubeVideo('_n-rjTuzqik', width=640, height=360)"
   ]
  },
  {
   "cell_type": "markdown",
   "metadata": {},
   "source": [
    "#### Exercises\n",
    "\n",
    "Here are some relevant questions to make ensure you've grasped key points from lectures and/or readings. \n",
    "\n",
    "1. Explain why the assumption of independent link formation is at odds with three core mechanisms.\n",
    "1. Why have the model class ERGM gone out of fashion? Are the assumptions shown necessary by Mele (2017) realistic?\n",
    "1. Explain how the model of subgraphs can be used to measure preferences for triangles."
   ]
  }
 ],
 "metadata": {
  "kernelspec": {
   "display_name": "Python 3",
   "language": "python",
   "name": "python3"
  },
  "language_info": {
   "codemirror_mode": {
    "name": "ipython",
    "version": 3
   },
   "file_extension": ".py",
   "mimetype": "text/x-python",
   "name": "python",
   "nbconvert_exporter": "python",
   "pygments_lexer": "ipython3",
   "version": "3.7.4"
  }
 },
 "nbformat": 4,
 "nbformat_minor": 4
}
