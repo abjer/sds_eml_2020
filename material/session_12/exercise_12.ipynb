{
 "cells": [
  {
   "cell_type": "markdown",
   "metadata": {},
   "source": [
    "# Exercise Set 12: Peer effects \n",
    "\n",
    "\n",
    "In this Exercise Set 12 we will investigate peer effects data. "
   ]
  },
  {
   "cell_type": "markdown",
   "metadata": {},
   "source": [
    "## 12.1: roommate peer effects\n",
    "\n",
    "\n",
    "<br>\n",
    "<br>\n",
    "\n",
    "We use a simlated dataset which will give results that provide conclusions similar to Sacerdote (2000). \n",
    "\n",
    "### Data structuring \n",
    "\n",
    "Our data set does not contain a network but has an implicit one associated. We assume there is an edge between all room mates. \n",
    "\n",
    "> **Ex. 12.1.1:** Create a column called `person_other` with identity of the other person in room.\n",
    ">> *Hint:* You can get the unique people in the room by using `df.groupby('room').person.unique()`."
   ]
  },
  {
   "cell_type": "code",
   "execution_count": 135,
   "metadata": {},
   "outputs": [],
   "source": [
    "# [Answer to ex. 12.1.1 here]"
   ]
  },
  {
   "cell_type": "markdown",
   "metadata": {},
   "source": [
    "<br>\n",
    "\n",
    "> **Ex. 12.1.2:** Add information on the roommate GPA in high school and college.\n",
    ">> *Hint:* This can be done merging on `person_other`."
   ]
  },
  {
   "cell_type": "code",
   "execution_count": 6,
   "metadata": {},
   "outputs": [],
   "source": [
    "# [Answer to ex. 12.1.2 here]"
   ]
  },
  {
   "cell_type": "markdown",
   "metadata": {},
   "source": [
    "<br>\n",
    "<br>\n",
    "\n",
    "### Data exploration and randomization\n",
    "\n",
    "We now have our final dataset and can begin investigating how the raw data looks. \n",
    "\n",
    "> **Ex. 12.1.3:** plot own GPA in high school vs college in a scatter plot."
   ]
  },
  {
   "cell_type": "code",
   "execution_count": 8,
   "metadata": {},
   "outputs": [],
   "source": [
    "# [Answer to ex. 12.1.3 here]"
   ]
  },
  {
   "cell_type": "markdown",
   "metadata": {},
   "source": [
    "<br>\n",
    "We want to check there is random assignment of roommates. \n",
    "\n",
    "> **Ex. 12.1.4:** Plot high school GPA vs roommate's high school GPA. Comment on the output. Run a regresion of high school GPA on roommate's high school GPA to formally check random assignment.\n",
    ">\n",
    ">> *Hint*: To run regressions in python, you can use the `statsmodels` package. Look up it's documentation and use the `.formula` api to estimate your model. To see a summary of a fitted model you can call `.summary()` on the object. \n",
    ">\n",
    ">> *Hint:* Under random assignment we would expect there to be no relation between the high school GPA's of roommates. Why is this? "
   ]
  },
  {
   "cell_type": "code",
   "execution_count": 11,
   "metadata": {},
   "outputs": [],
   "source": [
    "# [Answer to ex. 12.1.4 here]"
   ]
  },
  {
   "cell_type": "markdown",
   "metadata": {},
   "source": [
    "<br>\n",
    "<br>\n",
    "\n",
    "## Roommate effect\n",
    "\n",
    "Having checked the data we move on to analyzing peer effects. We begin with analyzing **exogenous** peer effects. I.e. peer effects that are related to the ex ante characteristics of the roommate.\n",
    "\n",
    "> **Ex. 12.1.5:** Plot own GPA in college vs. roommate GPA in high school. Comment on the output. Test whether there is an impact using a regresion of college school GPA on high school GPA for the person itself and its roommate."
   ]
  },
  {
   "cell_type": "code",
   "execution_count": 16,
   "metadata": {},
   "outputs": [],
   "source": [
    "# [Answer to ex. 12.1.5 here]"
   ]
  },
  {
   "cell_type": "markdown",
   "metadata": {},
   "source": [
    "We now move on to analyze **endogenous** peer effects.\n",
    "\n",
    "> **Ex. 12.1.6:** Test whether there is an association between own college GPA and roommates. Do this by running a regresion of college school GPA on high school GPA for the person itself and its roommate. Comment on the output."
   ]
  },
  {
   "cell_type": "code",
   "execution_count": 138,
   "metadata": {},
   "outputs": [],
   "source": [
    "# [Answer to ex. 12.1.6 here]"
   ]
  },
  {
   "cell_type": "markdown",
   "metadata": {},
   "source": [
    "<br>\n",
    "<br>\n",
    "\n",
    "# 12.2 Peer effects in Danish classrooms\n",
    "\n",
    "Read the [report by Kraka on peer effects in Danish schools](http://kraka.dk/sites/default/files/public/baggrundsnotat_klassekammerateffekter_0.pdf) from 2019. If you do not speak Danish talk to your group about the content.\n",
    "> **Ex. 12.2.1:** Explain the identification strategy in words."
   ]
  },
  {
   "cell_type": "markdown",
   "metadata": {},
   "source": [
    "> **Ex. 12.2.2:** Are there any shortcomings of the identification strategy? What does the seminal paper [Hoxby (2000)](https://www.nber.org/papers/w78612.pdf) test for?"
   ]
  },
  {
   "cell_type": "markdown",
   "metadata": {},
   "source": [
    "> **Ex. 12.2.3:** Try to come up with identification strategies for identifying peer effects in the context of Danish class rooms."
   ]
  }
 ],
 "metadata": {
  "kernelspec": {
   "display_name": "Python 3",
   "language": "python",
   "name": "python3"
  },
  "language_info": {
   "codemirror_mode": {
    "name": "ipython",
    "version": 3
   },
   "file_extension": ".py",
   "mimetype": "text/x-python",
   "name": "python",
   "nbconvert_exporter": "python",
   "pygments_lexer": "ipython3",
   "version": "3.7.4"
  }
 },
 "nbformat": 4,
 "nbformat_minor": 2
}
