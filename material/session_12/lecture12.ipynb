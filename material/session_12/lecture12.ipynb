{
 "cells": [
  {
   "cell_type": "markdown",
   "metadata": {},
   "source": [
    "# Session 12: Peer effects - measuring social spillovers\n",
    "\n",
    "By *Andreas Bjerre-Nielsen*\n",
    "\n",
    "#### Agenda\n",
    "\n",
    "In this lecture we will cover the following points.\n",
    "\n",
    "1. [Introduction and reflection problem](#Part-1:-Introduction-and-reflection-problem)\n",
    "    - [Reflection problem](#Reflection-problem)  \n",
    "  \n",
    "  \n",
    "2. [Selection problem and some solutions](#Part-2:-Selection-problem-and-some-solutions)\n",
    "    - [Selection problem](#Selection-problem)\n",
    "    - [Random assignment](#Random-peers)\n",
    "    - [Other identification strategies](#Other-identification-strategies)"
   ]
  },
  {
   "cell_type": "markdown",
   "metadata": {},
   "source": [
    "#### Recap of relevant material\n",
    "\n",
    "We begin by briefly reviewing parts of statitics and networks that are relevant for this sessions. If you feel unfamiliar with the terms you should go back and look at previous lectures."
   ]
  },
  {
   "cell_type": "code",
   "execution_count": null,
   "metadata": {},
   "outputs": [],
   "source": [
    "from IPython.display import YouTubeVideo\n",
    "YouTubeVideo('_c8d_FjAdiM', width=640, height=360)"
   ]
  },
  {
   "cell_type": "markdown",
   "metadata": {
    "slideshow": {
     "slide_type": "slide"
    }
   },
   "source": [
    "<br><br><br>\n",
    "\n",
    "# Part 1: Introduction and reflection problem\n",
    "#### Introduction and motivation \n",
    "\n",
    "We start out with a short introduction to the subject and provide some applications of peer effects measures."
   ]
  },
  {
   "cell_type": "code",
   "execution_count": null,
   "metadata": {},
   "outputs": [],
   "source": [
    "YouTubeVideo('ia2mPaFi1Do', width=640, height=360)"
   ]
  },
  {
   "cell_type": "markdown",
   "metadata": {},
   "source": [
    "#### Reflection problem\n",
    "We move on to seeing a formal model of peer-effects, the linear-in-means model. We see in this video how it can be used to show identification of endogenous and exogenous effects are not possible."
   ]
  },
  {
   "cell_type": "code",
   "execution_count": null,
   "metadata": {},
   "outputs": [],
   "source": [
    "YouTubeVideo('w1T06u9ArNc', width=640, height=360)"
   ]
  },
  {
   "cell_type": "markdown",
   "metadata": {},
   "source": [
    "#### Exercises\n",
    "\n",
    "Here are some questions to make ensure you've grasped key points from lectures and/or readings. \n",
    "\n",
    "1. List and explain the three components of social effects.\n",
    "1. Explain why separating endogenous and exogenous effects are difficult measure."
   ]
  },
  {
   "cell_type": "markdown",
   "metadata": {
    "slideshow": {
     "slide_type": "slide"
    }
   },
   "source": [
    "<br><br><br>\n",
    "\n",
    "# Part 2: Selection problem and some solutions\n"
   ]
  },
  {
   "cell_type": "markdown",
   "metadata": {},
   "source": [
    "#### Selection problem\n",
    "Often a bigger threat to doing a peer effects analysis is that there are omitted variable variable bias. This often caused by selection effects of friendships and into school and classrooms."
   ]
  },
  {
   "cell_type": "code",
   "execution_count": null,
   "metadata": {},
   "outputs": [],
   "source": [
    "YouTubeVideo('nxvO_GINCBs', width=640, height=360)"
   ]
  },
  {
   "cell_type": "markdown",
   "metadata": {},
   "source": [
    "#### Controlling exposure to peers\n",
    "\n",
    "We hear in this video about how we can break the selection problem to some extent by reconfiguring the network."
   ]
  },
  {
   "cell_type": "code",
   "execution_count": null,
   "metadata": {},
   "outputs": [],
   "source": [
    "YouTubeVideo('ijWJ1U5ykNU', width=640, height=360)"
   ]
  },
  {
   "cell_type": "markdown",
   "metadata": {},
   "source": [
    "#### Alternative methods for establishing causality\n",
    "\n",
    "Although randomization is the gold standard it is seen by some as unethical. Therefore, a large literature has emerged that relies on quasi experiments for identifying various dimensions of peer effects."
   ]
  },
  {
   "cell_type": "code",
   "execution_count": null,
   "metadata": {},
   "outputs": [],
   "source": [
    "YouTubeVideo('Ooez0AbIkSc', width=640, height=360)"
   ]
  },
  {
   "cell_type": "markdown",
   "metadata": {},
   "source": [
    "#### Exercises\n",
    "\n",
    "Here are some relevant questions to make ensure you've grasped key points from lectures and/or readings. \n",
    "\n",
    "1. Explain whether or not we can use friendship data to identify peer effects.\n",
    "1. What are some of the issues to identification with randomizing peers? \n",
    "1. List and explain two strategies for establishing causal peer effects."
   ]
  }
 ],
 "metadata": {
  "kernelspec": {
   "display_name": "Python 3",
   "language": "python",
   "name": "python3"
  },
  "language_info": {
   "codemirror_mode": {
    "name": "ipython",
    "version": 3
   },
   "file_extension": ".py",
   "mimetype": "text/x-python",
   "name": "python",
   "nbconvert_exporter": "python",
   "pygments_lexer": "ipython3",
   "version": "3.7.4"
  }
 },
 "nbformat": 4,
 "nbformat_minor": 4
}
