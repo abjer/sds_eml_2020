{
 "cells": [
  {
   "cell_type": "markdown",
   "metadata": {
    "slideshow": {
     "slide_type": "slide"
    }
   },
   "source": [
    "# Session 12:\n",
    "## Peer effects: measuring social spillovers\n",
    "\n",
    "*Andreas Bjerre-Nielsen*"
   ]
  },
  {
   "cell_type": "markdown",
   "metadata": {
    "slideshow": {
     "slide_type": "slide"
    }
   },
   "source": [
    "## Agenda\n",
    "\n",
    "Session on peer effects \n",
    "1. [Relevant recap](#Relevant-recap)\n",
    "1. [Introduction](#Introduction-to-peer-effects)\n",
    "1. [Reflection problem](#Reflection-problem)\n",
    "1. [Selection problem](#Selection-problem)\n",
    "1. [Controlling exposure to peers](#Controlling-exposure-to-peers)\n",
    "1. [Other identification strategies](#Other-identification-strategies)"
   ]
  },
  {
   "cell_type": "markdown",
   "metadata": {
    "slideshow": {
     "slide_type": "slide"
    }
   },
   "source": [
    "# Relevant recap"
   ]
  },
  {
   "cell_type": "markdown",
   "metadata": {
    "slideshow": {
     "slide_type": "slide"
    }
   },
   "source": [
    "\n",
    "## Recap statistics\n",
    "\n",
    "What have you learned about econometrics?"
   ]
  },
  {
   "cell_type": "markdown",
   "metadata": {
    "slideshow": {
     "slide_type": "fragment"
    }
   },
   "source": [
    "- Machine learning not causal\n",
    "- Randomization useful\n",
    "- Spatial econometrics - problematic"
   ]
  },
  {
   "cell_type": "markdown",
   "metadata": {
    "slideshow": {
     "slide_type": "slide"
    }
   },
   "source": [
    "\n",
    "## Recap networks\n",
    "\n",
    "What have you learned about networks?"
   ]
  },
  {
   "cell_type": "markdown",
   "metadata": {
    "slideshow": {
     "slide_type": "fragment"
    }
   },
   "source": [
    "- Networkx\n",
    "- Clustering Coefficient\n",
    "- Average Path Length\n",
    "- Degree (in/out)\n",
    "- Spreading dynamics"
   ]
  },
  {
   "cell_type": "markdown",
   "metadata": {
    "slideshow": {
     "slide_type": "slide"
    }
   },
   "source": [
    "# Introduction to peer effects"
   ]
  },
  {
   "cell_type": "markdown",
   "metadata": {
    "slideshow": {
     "slide_type": "slide"
    }
   },
   "source": [
    "\n",
    "## Social effects\n",
    "\n",
    "What spreads on a networks? How are you affected by your friends?\n",
    "\n",
    "- Economic: Goods by sharing and transacting\n",
    "- Other social: Information and ideas, immitating behavior, emotion\n",
    "- Public health: Diseases"
   ]
  },
  {
   "cell_type": "markdown",
   "metadata": {
    "slideshow": {
     "slide_type": "slide"
    }
   },
   "source": [
    "\n",
    "## What is a peer effect\n",
    "\n",
    "Impact of social interactions on current/future outcomes\n",
    "- Do healthy friends make your healthier?\n",
    "\n",
    "\n",
    "<center><img src=\"https://upload.wikimedia.org/wikipedia/commons/5/5c/11-00_A.M._Monday%2C_May_9th%2C_1910._Newsies_at_Skeeter%27s_Branch%2C_Jefferson_near_Franklin._They_were_all_smoking._Location-_St._Louis%2C_Missouri._MET_DP352686.jpg\" alt=\"Boys smoking\" width=\"800\"></center>"
   ]
  },
  {
   "cell_type": "markdown",
   "metadata": {
    "slideshow": {
     "slide_type": "slide"
    }
   },
   "source": [
    "\n",
    "## What is a peer effect\n",
    "\n",
    "Finding influence from person(s) to person\n",
    "- These questions date far back in sociology and social psychology\n",
    "- We take an econometric angle\n",
    "\n",
    "Other examples - from exercise:\n",
    "- Are you affected by number of bilingual pupils in your school class?\n",
    "- Do roommates matter for academic success, drinking?\n"
   ]
  },
  {
   "cell_type": "markdown",
   "metadata": {
    "slideshow": {
     "slide_type": "slide"
    }
   },
   "source": [
    "\n",
    "## Who are peers?\n",
    "\n",
    "We often distinguish between meausring peer effects:\n",
    "\n",
    "- from policy assignment \n",
    "    - these may be voluntary and involuntary choices\n",
    "    - e.g. colleagues at work, classmates in school\n",
    "    - network structure based on shared institution/foci (bipartite graph)\n",
    "<br>\n",
    "<br>\n",
    "- from friendships\n",
    "    - these are voluntary choices\n",
    "    - network structure where edges are friendships\n",
    "    "
   ]
  },
  {
   "cell_type": "markdown",
   "metadata": {
    "slideshow": {
     "slide_type": "slide"
    }
   },
   "source": [
    "## Why should we care?\n",
    "\n",
    "Through policies we can affect outcomes by manipulating social structures\n",
    "- Suppose that exposure to able peers matters for own achievements, consequence: \n",
    "    - Class room composition matters for achievements\n",
    "    - Can we raise social mobility by pairing low achievers with high achievers?\n",
    "\n",
    "There is inherent value in knowing about causal social effects."
   ]
  },
  {
   "cell_type": "markdown",
   "metadata": {
    "slideshow": {
     "slide_type": "slide"
    }
   },
   "source": [
    "## Measuring peer effects \n",
    "\n",
    "We face two main problems in identifying peer effects:\n",
    "\n",
    "- separating endogenous and exogenous effects\n",
    "- picking out sorting/homophily effects"
   ]
  },
  {
   "cell_type": "markdown",
   "metadata": {
    "slideshow": {
     "slide_type": "slide"
    }
   },
   "source": [
    "# Reflection problem"
   ]
  },
  {
   "cell_type": "markdown",
   "metadata": {
    "slideshow": {
     "slide_type": "slide"
    }
   },
   "source": [
    "## Who affects whom?\n",
    "\n",
    "How can we measure the impact of a group's behavior on a member's behavior?"
   ]
  },
  {
   "cell_type": "markdown",
   "metadata": {
    "slideshow": {
     "slide_type": "fragment"
    }
   },
   "source": [
    "<center><img src=\"https://c1.staticflickr.com/8/7295/27525654532_06e9ceb9c2_b.jpg\" alt=\"Girls mirror\" width=\"1000\"></center>"
   ]
  },
  {
   "cell_type": "markdown",
   "metadata": {
    "slideshow": {
     "slide_type": "slide"
    }
   },
   "source": [
    "## How can we measure peer effects?\n",
    "\n",
    "Reflection problem - [Manski (1993)](https://doi.org/10.2307/2298123) decomposes group effects into three categories of effects:"
   ]
  },
  {
   "cell_type": "markdown",
   "metadata": {
    "slideshow": {
     "slide_type": "fragment"
    }
   },
   "source": [
    "- *Exogenous/contextual*:  behavior is affected by group exogenous characteristics\n",
    "    - example: parents income, number of bilingual."
   ]
  },
  {
   "cell_type": "markdown",
   "metadata": {
    "slideshow": {
     "slide_type": "fragment"
    }
   },
   "source": [
    "- *Endogenous*: individual unobserved behavior, beliefs (to analyst)\n",
    "    - e.g. study effort, distraction etc."
   ]
  },
  {
   "cell_type": "markdown",
   "metadata": {
    "slideshow": {
     "slide_type": "fragment"
    }
   },
   "source": [
    "- *Correlated*: non-social, i.e. unobserved selection\n",
    "    - people behave in the same way because they are similar\n",
    "    - people face same unobservable background variables, e.g. teachers, class facilities, neighborhood    \n",
    "\n",
    "    "
   ]
  },
  {
   "cell_type": "markdown",
   "metadata": {
    "slideshow": {
     "slide_type": "slide"
    }
   },
   "source": [
    "## Linear-in-means - components\n",
    "\n",
    "Suppose we are interested in making a model of an outcome $\\omega_{ig}$, e.g. alcohol drinking in college dorm.  \n",
    "\n",
    "The following factors affect $\\omega_{ig}$:\n",
    "\n",
    "- $x_i$: observed individual factor, e.g. individual high-school alcohol.\n",
    "- $y_g$: observed group factors, e.g. mean dorm high-school alcohol.\n",
    "    - **exogenous** effect\n",
    "- $m_{ig}^e$: individual expectation/perception of others' behavior, e.g. drinking by dorm-mates.\n",
    "    - **endogenous** effect which can create feedback loops\n",
    "- $\\epsilon_i$: idiosyncratic error"
   ]
  },
  {
   "cell_type": "markdown",
   "metadata": {
    "slideshow": {
     "slide_type": "slide"
    }
   },
   "source": [
    "## Linear-in-means - model\n",
    "\n",
    "Suppose individual behavior follows this rule:\n",
    "<br>\n",
    "<center>$\\omega_{ig}=k+cx_i+\n",
    "\\underset{exogenous}{\\underbrace{dy_g}}+\n",
    "\\underset{endogenous}{\\underbrace{Jm^e_{ig}}}+\n",
    "\\underset{error}{\\underbrace{\\varepsilon_i}}$</center>\n",
    "<br>\n",
    "\n",
    "Assume that every individual has complete knowledge of the model (but not errors of others, i.e. $\\varepsilon_j$). It follows that:\n",
    "<br>\n",
    "<br>\n",
    "\\begin{align}\n",
    "m_{ig}^e&= \\mathbb{E}_{x_i}[\\mathbb{E}[\\omega|x_i,g]]\\\\\n",
    "&=k + c\\mathbb{E}[x|g] + dy_g + Jm^e_{ig} \\\\\n",
    "m_{ig}^e&=\\frac{k+c\\bar{x}_g+dy_g}{1-J} \\\\\n",
    "\\end{align}\n",
    "\n",
    "\n",
    "If we re-insert that into the model and isolate:\n",
    "<br>\n",
    "<center>$\\omega_{ig}=\\frac{k}{1-J}+cx_i+\\frac{cJ}{1-J}\\bar{x}_g+\\frac{d}{1-J}y_g+\\varepsilon_i$</center>\n",
    "<br>\n",
    "\n"
   ]
  },
  {
   "cell_type": "markdown",
   "metadata": {
    "slideshow": {
     "slide_type": "slide"
    }
   },
   "source": [
    "## Linear-in-means - identification"
   ]
  },
  {
   "cell_type": "markdown",
   "metadata": {
    "slideshow": {
     "slide_type": "fragment"
    }
   },
   "source": [
    "Suppose that we assume that exogenous characteristics are $y_g=\\bar{x}_g$. This implies the model solution is:\n",
    "\n",
    "<br>\n",
    "<center>$\\omega_{ig}=\\frac{k}{1-J}+cx_i+\\frac{cJ+d}{1-J}\\bar{x}_g+\\varepsilon_i$</center>\n",
    "<br>"
   ]
  },
  {
   "cell_type": "markdown",
   "metadata": {
    "slideshow": {
     "slide_type": "fragment"
    }
   },
   "source": [
    "Thus we  <font color=\"red\">cannot disentangle </font> $d$ and $J$! \n",
    "\n",
    "Implication: the parameters for endogenous and exogenous effects are **not identified**.\n"
   ]
  },
  {
   "cell_type": "markdown",
   "metadata": {
    "slideshow": {
     "slide_type": "fragment"
    }
   },
   "source": [
    "Note, much empirical literature have tried to identify a model of only exogenous effects:\n",
    "<br>\n",
    "<br>\n",
    "<center>$\\omega_{ig}=\\pi_0+\\pi_1x_i+\\pi_2y_g+\\varepsilon_i$</center>\n"
   ]
  },
  {
   "cell_type": "markdown",
   "metadata": {
    "slideshow": {
     "slide_type": "slide"
    }
   },
   "source": [
    "## Overcoming reflection \n",
    "\n",
    "The reflection problem is often solved in practice because it relies on $y_g$ being a linear function of $\\bar{x}_g$.\n",
    "    \n",
    "   \n",
    "Some solutions: \n",
    "- Network structure ([Bramouellé et al. 2009](https://www.sciencedirect.com/science/article/pii/S0304407609000335))\n",
    "  - Effect of friends can be measured by indirect effect from friends of friends (instrumentation) \n",
    "  - Requires assumption of no correlated effects!!    \n",
    "- Non-linear structure, dynamics - see [Blume et al. (2011)](https://www.sciencedirect.com/science/article/pii/B9780444537072000013)\n"
   ]
  },
  {
   "cell_type": "markdown",
   "metadata": {
    "slideshow": {
     "slide_type": "slide"
    }
   },
   "source": [
    "# Selection problem"
   ]
  },
  {
   "cell_type": "markdown",
   "metadata": {
    "slideshow": {
     "slide_type": "slide"
    }
   },
   "source": [
    "## Peer effects in obesity\n",
    "\n",
    "\n",
    "\n",
    "\n",
    "*Question*: can we measure peer effects of friends obesity? This problem is studied by [Christakis and Fowler (2007)](https://www.nejm.org/doi/full/10.1056/NEJMsa066082)\n",
    "\n",
    "- They have a large friendship network and measure individual obesity. \n",
    "- They conclude that having more obese friends increase your own obesity."
   ]
  },
  {
   "cell_type": "markdown",
   "metadata": {
    "slideshow": {
     "slide_type": "slide"
    }
   },
   "source": [
    "## Is obesity contagious?"
   ]
  },
  {
   "cell_type": "markdown",
   "metadata": {
    "slideshow": {
     "slide_type": "fragment"
    }
   },
   "source": [
    "Possibly. But, there are multiple competing explanations."
   ]
  },
  {
   "cell_type": "markdown",
   "metadata": {
    "slideshow": {
     "slide_type": "fragment"
    }
   },
   "source": [
    "Until now we have focused on separating exogenous and endogenous effects. However, [Manski (1993)](https://doi.org/10.2307/2298123) argued of a third effect:\n",
    "  - *Correlated*: non-social, i.e. unobserved selection\n",
    "    - people behave in the same way because they are similar\n",
    "    - people face same unobservable background variables, e.g. teachers, class facilities, neighborhood    \n",
    "\n",
    "A fundamental problem: are we friends because we are similar or similar because we are friends?\n",
    "- Homophily: we tend to self-select into friendships and schools with people who are similar to us.   \n"
   ]
  },
  {
   "cell_type": "markdown",
   "metadata": {
    "slideshow": {
     "slide_type": "slide"
    }
   },
   "source": [
    "# Controlling exposure to peers"
   ]
  },
  {
   "cell_type": "markdown",
   "metadata": {
    "slideshow": {
     "slide_type": "slide"
    }
   },
   "source": [
    "## Random assignment\n",
    "Antidote for handling selection: \"*No causation without manipulation*\", [Holland (1986)](https://www.jstor.org/stable/2289064)\n",
    "- Idea: Use random allocation of students to rooms to remove correlated (selection) effect. \n",
    "\n",
    "Some evidence\n",
    "- [Sacerdote 2001](https://academic.oup.com/qje/article-abstract/116/2/681/1904199) examines effect of random allocation of roommates (exercise)\n",
    "  - Causal or not?"
   ]
  },
  {
   "cell_type": "markdown",
   "metadata": {
    "slideshow": {
     "slide_type": "slide"
    }
   },
   "source": [
    "## Adverse consequences?\n",
    "\n",
    "[Carrell, Sacerdote, West (2013)](https://onlinelibrary.wiley.com/doi/abs/10.3982/ECTA10168) investigates random assignment into classes. They estimated a positive effect for those expected to be low performers of being paired with high performers."
   ]
  },
  {
   "cell_type": "markdown",
   "metadata": {
    "slideshow": {
     "slide_type": "fragment"
    }
   },
   "source": [
    "- They implemented a programme with **negative sorting** such that low and high performers were in class separate from medium performers.\n",
    "- Results was that low performers were WORSE off!\n",
    "- Explanation: low and high performers did not interact within class! "
   ]
  },
  {
   "cell_type": "markdown",
   "metadata": {
    "slideshow": {
     "slide_type": "fragment"
    }
   },
   "source": [
    "If negative sorting is bad could **positive sorting** work?\n",
    "\n",
    "- Evidence suggest that students benefit from being seperated with other low ability students. Separating school cohorts by ability is known as **tracking**. See [Duflo, Dupas, Kremer (2011)](https://www.aeaweb.org/articles?id=10.1257/aer.101.5.1739), [Leuven et al 2017](https://www.dropbox.com/s/o4jlzdg264nx1k7/ability_final.pdf?dl=0). "
   ]
  },
  {
   "cell_type": "markdown",
   "metadata": {
    "slideshow": {
     "slide_type": "slide"
    }
   },
   "source": [
    "## A note on policy\n",
    "\n",
    "\n",
    "\n",
    "\n",
    "[Hoxby, Weingarth (2005)](https://www.pausd.org/sites/default/files/pdf-faqs/attachments/TakingRaceOutOfTheEquation.pdf) argues that if peer effects are *linear and  homogenous* then reshuffling students implies that mean GPA is constant!\n",
    "- There will still be redistributing effect.\n",
    "- Non-linearities has first order effects: Suppose \"bright\" students \"less bright\" students ability more than they do for \"bright\". Can raise mean GPA by redistributing!\n",
    "    "
   ]
  },
  {
   "cell_type": "markdown",
   "metadata": {
    "slideshow": {
     "slide_type": "slide"
    }
   },
   "source": [
    "# Other identification strategies"
   ]
  },
  {
   "cell_type": "markdown",
   "metadata": {
    "slideshow": {
     "slide_type": "slide"
    }
   },
   "source": [
    "## Work place studies\n",
    "\n",
    "- Being in a shift with a high productive person raises own productivity [Falk, Ichino (2007)](https://www.journals.uchicago.edu/doi/abs/10.1086/497818); [Mas, Moretti (2009)](https://www.aeaweb.org/articles?id=10.1257/aer.99.1.112)\n",
    "- Working with someone rather than being alone raises your own productivity, see [Falk, Ichino (2007)](https://www.journals.uchicago.edu/doi/abs/10.1086/497818)"
   ]
  },
  {
   "cell_type": "markdown",
   "metadata": {
    "slideshow": {
     "slide_type": "slide"
    }
   },
   "source": [
    "## Cohort variation within schools\n",
    "\n",
    "- [Hoxby (2000)](https://www.nber.org/papers/w7867.pdf) uses random variation of race, gender across cohorts within school\n",
    "    - Finds evidence of boys performance increase when exposed to more girls.\n",
    "- Other studies - exerises today."
   ]
  },
  {
   "cell_type": "markdown",
   "metadata": {
    "slideshow": {
     "slide_type": "slide"
    }
   },
   "source": [
    "## Exogenous individual variation\n",
    "\n",
    "Exploiting natural variation\n",
    "\n",
    "- [Aral, Nicolaides (2018)](https://www.nature.com/articles/ncomms14753): \n",
    "    - Use variation in weather's effect on work out > fitness peer effect \n",
    "\n",
    "- Andersen, Glavind, Bjerre-Nielsen (ongoing): \n",
    "    - Use incoming text message as shock to smartphone usage > measure social impact    \n",
    "    \n",
    "Similar ideas are being attempted with adverse shocks, e.g. unemployment, family member dies."
   ]
  },
  {
   "cell_type": "markdown",
   "metadata": {
    "slideshow": {
     "slide_type": "slide"
    }
   },
   "source": [
    "## Exogenous individual variation (2)\n",
    "\n",
    "Combination with RDD\n",
    "- [Altmejd et al. (2019)](https://andresbarriosf.github.io/siblings_effects.pdf) and [Goodman et al. (2019)](https://www.econstor.eu/bitstream/10419/214976/1/cesifo1_wp7974.pdf)\n",
    "  - Sibling spillovers from admission to college \n",
    "\n",
    "Interventions\n",
    "\n",
    "- [Kramer, Guillory, Hancock (2014)](https://www.pnas.org/content/111/24/8788): \n",
    "    - Intervene on pictures shown in news feed to affect emotion > measure effect on peers\n"
   ]
  },
  {
   "cell_type": "markdown",
   "metadata": {
    "slideshow": {
     "slide_type": "slide"
    }
   },
   "source": [
    "## Structural modelling\n",
    "\n",
    "If we model network formation correctly we can hope to identify friendship selection.\n",
    "\n",
    "- See for instance [Goldsmith-Pinkham, Imbens (2013)](https://www.tandfonline.com/doi/abs/10.1080/07350015.2013.801251)\n",
    "- Next session about network formation"
   ]
  }
 ],
 "metadata": {
  "celltoolbar": "Slideshow",
  "kernelspec": {
   "display_name": "Python 3",
   "language": "python",
   "name": "python3"
  },
  "language_info": {
   "codemirror_mode": {
    "name": "ipython",
    "version": 3
   },
   "file_extension": ".py",
   "mimetype": "text/x-python",
   "name": "python",
   "nbconvert_exporter": "python",
   "pygments_lexer": "ipython3",
   "version": "3.7.4"
  }
 },
 "nbformat": 4,
 "nbformat_minor": 2
}
